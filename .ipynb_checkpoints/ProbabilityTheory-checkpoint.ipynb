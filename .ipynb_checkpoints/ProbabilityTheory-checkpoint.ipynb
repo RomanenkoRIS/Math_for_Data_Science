{
 "cells": [
  {
   "cell_type": "markdown",
   "metadata": {
    "heading_collapsed": true
   },
   "source": [
    "#### Functions Library"
   ]
  },
  {
   "cell_type": "code",
   "execution_count": 285,
   "metadata": {
    "hidden": true
   },
   "outputs": [],
   "source": [
    "from collections import Counter\n",
    "import numpy as np\n",
    "import pandas as pd\n",
    "import matplotlib.pyplot as plt\n",
    "\n",
    "def factorial(n):\n",
    "    if n == 0:\n",
    "        return 1\n",
    "    else:\n",
    "        return n*factorial(n-1)       \n",
    "        \n",
    "# number of combinations \n",
    "\n",
    "def NumbComb (m,n):\n",
    "    return factorial(n)/(factorial(m)*factorial(n-m))\n",
    "\n",
    "\n",
    "def ProbabilityDistribution(value,total_numbers):\n",
    "    '''\n",
    "    calculate probability distribution in a set range\n",
    "    ProbabilityDistribution(value,total_numbers)\n",
    "    value - the value for which the distribution function is determined\n",
    "    total_numbers - total numbers    \n",
    "\n",
    "    '''\n",
    "    data = [value/total_numbers]\n",
    "    for i in range(1,value):\n",
    "        data.append(round((data[i-1]*(value-i)/(total_numbers-i)),3))\n",
    "    return data \n",
    "\n",
    "\n",
    "\n",
    "def BinomialDistribution(p,n,k):\n",
    "    \n",
    "    '''\n",
    "    BinomialDistribution(p,n,k)\n",
    "    p - Probability\n",
    "    n - total number of trials\n",
    "    k - probability of getting numb\n",
    "    \n",
    "    '''\n",
    "    nk =  factorial(n)/(factorial(k)*factorial(n-k))\n",
    "    \n",
    "    return nk*(p**k)*(1-p)**(n-k)\n",
    "\n",
    "def ExpectedValue(x,px):\n",
    "    \n",
    "    return sum([ px[i]*x[i]for i in range(0,len(x))])\n",
    "\n",
    "\n",
    "def Variance(mean,px,x):\n",
    "\n",
    "    return  sum([(x[i]-mean)**2*px[i] for i in range(0,len(x))])\n",
    "\n",
    "\n",
    "def NormallyDistribution(x, mu, sigma):\n",
    "    \n",
    "    return (1/(sigma*(2*pi)**(0.5)))* np.exp(-((x-mu)**2)/(2*sigma*sigma))\n",
    "\n",
    "\n",
    "def quantile(data, quantile):\n",
    "    \n",
    "    if quantile == 'first':\n",
    "        return data[int(0.25*(len(sorted(data))+1))]\n",
    "        \n",
    "    if quantile == 'second':\n",
    "         return data[int(0.5*(len(sorted(data))+1))]\n",
    "        \n",
    "    if quantile == 'third':\n",
    "         return data[int(0.75*(len(sorted(data))+1))]\n",
    "    else:\n",
    "        return 'error'\n",
    "    \n",
    "    \n",
    "def percentile(data,P):\n",
    "    \n",
    "    data = sorted(data)\n",
    "    if 0 <= P <= 100:\n",
    "        return data[round(P*0.01*(len(data)-1)+1)]\n",
    "\n",
    "    "
   ]
  },
  {
   "cell_type": "markdown",
   "metadata": {
    "heading_collapsed": true
   },
   "source": [
    "### Home task 1.\n",
    " Intro to probabilistic thinking "
   ]
  },
  {
   "cell_type": "markdown",
   "metadata": {
    "heading_collapsed": true,
    "hidden": true
   },
   "source": [
    "#### A day of the week is chosen at random. What is the probability of choosing a Monday or Tuesday?"
   ]
  },
  {
   "cell_type": "code",
   "execution_count": 13,
   "metadata": {
    "hidden": true
   },
   "outputs": [
    {
     "name": "stdout",
     "output_type": "stream",
     "text": [
      "The probability of choosing a Monday or Tuesday is 0.286         \n",
      "correct answer is 2/7 = 0.286\n"
     ]
    }
   ],
   "source": [
    "# numbers of preferred outcome\n",
    "pr_out = 2\n",
    "# numbers of all possible outcome\n",
    "all_out = 7\n",
    "#answer\n",
    "P = pr_out/all_out\n",
    "\n",
    "print(f'The probability of choosing a Monday or Tuesday is {round(P,3)} \\\n",
    "        \\ncorrect answer is 2/7 = {round(2/7,3)}')\n"
   ]
  },
  {
   "cell_type": "markdown",
   "metadata": {
    "hidden": true
   },
   "source": [
    "#### A card is drawn at random from a deck of 52 cards. Find the probability of getting the\n",
    "* a. 3;\n",
    "* b. 3 of diamond."
   ]
  },
  {
   "cell_type": "code",
   "execution_count": 70,
   "metadata": {
    "hidden": true
   },
   "outputs": [
    {
     "name": "stdout",
     "output_type": "stream",
     "text": [
      "Probability of getting the 3 is 0.077 correct answer is 1/13 = 0.077       \n",
      "Probability of getting the 3 of diamond is 0.019 correct answer is 1/52 = 0.019\n"
     ]
    }
   ],
   "source": [
    "# total cards number \n",
    "total_cards_num = 52\n",
    "\n",
    "# a getting the 3\n",
    "cards_num_3 = 4\n",
    "P_a = cards_num_3/total_cards_num\n",
    "\n",
    "# a getting 3 of diamond\n",
    "cards_num_3_diamond = 1\n",
    "\n",
    "P_b = cards_num_3_diamond / total_cards_num\n",
    "\n",
    "print(f'Probability of getting the 3 is { round(P_a,3)} correct answer is 1/13 = {round(1/13,3)} \\\n",
    "      \\nProbability of getting the 3 of diamond is { round(P_b,3)} correct answer is 1/52 = {round(1/52,3)}')"
   ]
  },
  {
   "cell_type": "markdown",
   "metadata": {
    "heading_collapsed": true,
    "hidden": true
   },
   "source": [
    "#### There are 4 parents, 3 students and 6 teachers in a room. If a person is selected at random, what is the probability that it is a teacher or a student?"
   ]
  },
  {
   "cell_type": "code",
   "execution_count": 26,
   "metadata": {
    "hidden": true
   },
   "outputs": [
    {
     "name": "stdout",
     "output_type": "stream",
     "text": [
      "the probability that it is a teacher or a student is 0.692 \n",
      "correct answer is 9/13 = 0.692\n"
     ]
    }
   ],
   "source": [
    "parents = 4\n",
    "student = 3\n",
    "teachers = 6\n",
    "total = parents + student + teachers\n",
    "prob_teacher_or_student = (teachers + student)  /total\n",
    "\n",
    "print(f'the probability that it is a teacher or a \\\n",
    "student is {round(prob_teacher_or_student,3)} \\ncorrect answer is 9/13 = {round(9/13,3)}')\n"
   ]
  },
  {
   "cell_type": "markdown",
   "metadata": {
    "heading_collapsed": true,
    "hidden": true
   },
   "source": [
    "#### Find the probability that a leap year has\n",
    "* a. 52 Sundays;\n",
    "* b. 53 Sundays;\n",
    "* c. 54 Sundays."
   ]
  },
  {
   "cell_type": "code",
   "execution_count": 69,
   "metadata": {
    "hidden": true
   },
   "outputs": [
    {
     "name": "stdout",
     "output_type": "stream",
     "text": [
      "answers:\n",
      "    the probability that a leap year has 52 Sundays is 1.0 correct answer is 1 = 1      \n",
      "    the probability that a leap year has 53 Sundays is 0.286 correct answer is 2/7 = 0.286       \n",
      "    the probability that a leap year has 54 Sundays is 0 correct answer is 0 = 0\n"
     ]
    }
   ],
   "source": [
    "# In a normal year 52 full weeks +1 day. In a leap year 52 full weeks +2 days.\n",
    "fix_days_numb = 7\n",
    "total_days_normal_year = 365\n",
    "total_days_leap_year = 366\n",
    "fix_weeks_numb = round((total_days_normal_year/fix_days_numb),0)\n",
    "\n",
    "# question a \n",
    "#probability that a leap year has 52 Sundays\n",
    "a = round(total_days_leap_year / (fix_weeks_numb*fix_days_numb),0)\n",
    "\n",
    "# question b probability that a leap year has 53 Sundays\n",
    "#In this case, 52 full weeks, 52 Sundays and 2 days which can be any day of the week. \n",
    "#Therefore,in this case, need to analyze the probability that one of 2 days can bee Sunday.\n",
    "b = round((total_days_leap_year-(fix_weeks_numb*fix_days_numb))/fix_days_numb,3)\n",
    "\n",
    "# question c \n",
    "#probability that a leap year has 54 Sundays\n",
    "c = 0\n",
    "\n",
    "print(f'answers:\\n    the probability that a leap year has 52 Sundays is {a} \\\n",
    "correct answer is 1 = {round(1,0)}\\\n",
    "      \\n    the probability that a leap year has 53 Sundays is {b} \\\n",
    "correct answer is 2/7 = {round(2/7,3)} \\\n",
    "      \\n    the probability that a leap year has 54 Sundays is {c} \\\n",
    "correct answer is 0 = {0}')"
   ]
  },
  {
   "cell_type": "markdown",
   "metadata": {
    "heading_collapsed": true,
    "hidden": true
   },
   "source": [
    "#### Four cards are chosen from a standard deck of 52 playing cards with replacement. What is the probability of choosing 4 hearts in a row?"
   ]
  },
  {
   "cell_type": "code",
   "execution_count": 71,
   "metadata": {
    "hidden": true
   },
   "outputs": [
    {
     "name": "stdout",
     "output_type": "stream",
     "text": [
      "the probability of choosing 4 hearts in a row is 0.0039 correct answer is 1/256 = 0.0039 \n"
     ]
    }
   ],
   "source": [
    "P1 = 13/52\n",
    "P2 = 13/52\n",
    "P3 = 13/52\n",
    "P4 = 13/52\n",
    "P = P1*P2*P3*P4\n",
    "print(f'the probability of choosing 4 hearts in a row is {round(P,4)} \\\n",
    "correct answer is 1/256 = {round(1/256,4)} ')\n"
   ]
  },
  {
   "cell_type": "markdown",
   "metadata": {
    "heading_collapsed": true,
    "hidden": true
   },
   "source": [
    "#### A nationwide survey showed that 65% of all children in the United States dislike eating vegetables. If 4 children are chosen at random, what is the probability that all 4 dislike eating vegetables?"
   ]
  },
  {
   "cell_type": "code",
   "execution_count": 77,
   "metadata": {
    "hidden": true
   },
   "outputs": [
    {
     "name": "stdout",
     "output_type": "stream",
     "text": [
      "If 4 children are chosen at random, the probabilitythat all 4 dislike eating vegetables is 0.179. \n",
      "Correct answer is 0.179\n"
     ]
    }
   ],
   "source": [
    "P1 = 0.65\n",
    "P2 = 0.65\n",
    "P3 = 0.65\n",
    "P4 = 0.65\n",
    "P = P1*P2*P3*P4\n",
    "\n",
    "print(f'If 4 children are chosen at random, the probability\\\n",
    "that all 4 dislike eating vegetables is {round(P,3)}. \\nCorrect answer is {0.179}')"
   ]
  },
  {
   "cell_type": "markdown",
   "metadata": {
    "heading_collapsed": true,
    "hidden": true
   },
   "source": [
    "#### Two dice are rolled, the probability that the sum is\n",
    "* a. equal to 1;\n",
    "* b. equal to 4;\n",
    "* c. less than 13."
   ]
  },
  {
   "cell_type": "code",
   "execution_count": 82,
   "metadata": {
    "hidden": true
   },
   "outputs": [
    {
     "name": "stdout",
     "output_type": "stream",
     "text": [
      "the probability that the sum is equal to 1 is 0 \n",
      "Correct answer is 0\n",
      "the probability that the sum is equal to 4 is 0.083 \n",
      "Correct answer is 1/12 = 0.083\n",
      "the probability that the sum is less than 13 is 1.0 \n",
      "Correct answer is 1\n"
     ]
    }
   ],
   "source": [
    "'''\n",
    "1+1 2+1 3+1 4+1 5+1 6+1\n",
    "1+2 2+2 3+2 4+2 5+2 6+2\n",
    "1+3 2+3 3+3 4+3 5+3 6+3\n",
    "1+4 2+4 3+4 4+4 5+4 6+4\n",
    "1+5 2+5 3+5 4+5 5+5 6+5\n",
    "1+6 2+6 3+6 4+6 5+6 6+6\n",
    "'''\n",
    "# a the sum is equal to 1\n",
    "\n",
    "# Minimum value of dice is 1. \n",
    "#If we sum 2 minimum value it bigger than 1. \n",
    "#Therefore probability that the sum is equal 1 equal 0.\n",
    " \n",
    "a = 0\n",
    "\n",
    "# b the sum is equal to 4\n",
    "# combinations:\n",
    "#            1. 1+3 = 4\n",
    "#            2. 2+2 = 4\n",
    "#            3. 3+1 = 4\n",
    "# \n",
    "\n",
    "b = 3/(6*6)\n",
    "#round(b,3), round(1/12,3)\n",
    "\n",
    "# c the sum is less than 13\n",
    "# max value is 6+6 = 12, Therefore all combination less than 13\n",
    "\n",
    "c = 36/36\n",
    "\n",
    "print(f'the probability that the sum is equal to 1 is {a} \\nCorrect answer is {0}\\\n",
    "\\nthe probability that the sum is equal to 4 is {round(b,3)} \\nCorrect answer is 1/12 = {round(1/12,3)}\\\n",
    "\\nthe probability that the sum is less than 13 is {c} \\nCorrect answer is {1}')\n"
   ]
  },
  {
   "cell_type": "markdown",
   "metadata": {
    "heading_collapsed": true,
    "hidden": true
   },
   "source": [
    "#### A jar contains 5 red, 3 green, 2 purple and 4 yellow marbles. A marble is chosen at random from the jar. After putting it back, a second marble is chosen. What is the probability of choosing a purple and then a red marble?"
   ]
  },
  {
   "cell_type": "code",
   "execution_count": 85,
   "metadata": {
    "hidden": true
   },
   "outputs": [
    {
     "name": "stdout",
     "output_type": "stream",
     "text": [
      "The probability of choosing a purple and then a red marble is 0.051\n",
      "Correct answer is 5/98 = 0.051\n"
     ]
    }
   ],
   "source": [
    "red = 5\n",
    "green = 3\n",
    "purple = 2\n",
    "yellow = 4\n",
    "total_numbers = red + green + purple + yellow\n",
    "\n",
    "# B1 - probability of choosing a purple marble\n",
    "P_b1 = purple / total_numbers\n",
    "\n",
    "# B2 - probability of choosing a red marble\n",
    "P_b2 = red / total_numbers\n",
    "\n",
    "P_b1_b2 = P_b1*P_b2 \n",
    "\n",
    "print(f'The probability of choosing a purple and then a red marble is {round(P_b1_b2,4)}\\\n",
    "\\nCorrect answer is 5/98 = {round((5/98),4)}')\n"
   ]
  },
  {
   "cell_type": "markdown",
   "metadata": {
    "heading_collapsed": true,
    "hidden": true
   },
   "source": [
    "#### A box contains 4 chocobars and 4 ice creams. Tom eats 3 of them, by randomly choosing. What is the probability of choosing 2 chocobars and 1 ice cream?"
   ]
  },
  {
   "cell_type": "code",
   "execution_count": 86,
   "metadata": {
    "hidden": true
   },
   "outputs": [
    {
     "name": "stdout",
     "output_type": "stream",
     "text": [
      "The probability of choosing 2 chocobars and 1 ice cream is 0.429\n",
      "Correct answer is 3/7 = 0.429 \n"
     ]
    }
   ],
   "source": [
    "'''\n",
    "b1 = ic ic ch = (4/8)*(3/7)*(4/6)\n",
    "b2 = ch ic ic = (4/8)*(4/7)*(3/6)\n",
    "b3 = ic ch is = (4/8)*(4/7)*(3/6) \n",
    "'''\n",
    "ice_creams = 4\n",
    "chocobars = 4\n",
    "total_numbers = ice_creams + chocobars\n",
    "Pb1 = (4/8)*(3/7)*(4/6)\n",
    "Pb2 = (4/8)*(4/7)*(3/6)\n",
    "Pb3 = (4/8)*(4/7)*(3/6) \n",
    "P = Pb1+Pb2+Pb3\n",
    "\n",
    "print(f'The probability of choosing 2 chocobars and 1 ice cream is {round(P,3)}\\\n",
    "\\nCorrect answer is 3/7 = {round(3/7,3)} ')\n"
   ]
  },
  {
   "cell_type": "markdown",
   "metadata": {
    "heading_collapsed": true,
    "hidden": true
   },
   "source": [
    "#### Balls numbered 1 through 20 are placed in a bag. Three balls are drawn out of the bag without replacement. What is the probability that all the balls have odd numbers on them?"
   ]
  },
  {
   "cell_type": "code",
   "execution_count": 88,
   "metadata": {
    "hidden": true
   },
   "outputs": [
    {
     "name": "stdout",
     "output_type": "stream",
     "text": [
      "The probability that all the balls have odd numbers on them is 0.105\n"
     ]
    }
   ],
   "source": [
    "'''\n",
    "b1 = od od od = (10/20)*(9/19)*(8/18)\n",
    "b2 = od od ev = (10/20)*(9/19)*(10/18)\n",
    "b3 = od ev ev = (10/20)*(10/19)*(9/18)\n",
    "b4 = ev ev ev = (10/20)*(9/19)*(8/18)\n",
    "\n",
    "'''\n",
    "P = (10/20)*(9/19)*(8/18)\n",
    "\n",
    "print(f'The probability that all the balls have odd numbers on them is {round(P,3)}')"
   ]
  },
  {
   "cell_type": "markdown",
   "metadata": {
    "hidden": true
   },
   "source": [
    "#### Two production lines produce the same part. Line 1 produces 1,000 parts per week of which 100 are defective. Line 2 produces 2,000 parts per week of which 150 are defective. If you choose a part randomly from the stock what is the probability it is defective? If it is defective what is the probability it was produced by line 1?"
   ]
  },
  {
   "cell_type": "code",
   "execution_count": 89,
   "metadata": {
    "hidden": true
   },
   "outputs": [
    {
     "name": "stdout",
     "output_type": "stream",
     "text": [
      "The probability that part is defective is 0.083 \n",
      "Correct answer is 1/12 = 0.083\n",
      "The probability that part was produced by line 1 0.4\n",
      "Correct answer is 2/5 = 0.4\n"
     ]
    }
   ],
   "source": [
    "'''\n",
    "b1 - from 1 line\n",
    "b2 - from 2 line\n",
    "'''\n",
    "Line1 = 1000\n",
    "Line1_defective = 100\n",
    "Line2 = 2000\n",
    "Line2_defective = 150\n",
    "\n",
    "defective_L1 = Line1_defective/Line1\n",
    "defective_L2 = Line2_defective/Line2\n",
    "\n",
    "P_B1 = Line1/(Line1+Line2)\n",
    "P_B2 = Line2/(Line1+Line2)\n",
    "P = P_B1*defective_L1 + P_B2*defective_L2 \n",
    "P2 = P_B1*defective_L1/P \n",
    "\n",
    "print(f'The probability that part is defective is {round(P,3)} \\nCorrect answer is 1/12 = {round(1/12,3)}\\\n",
    "\\nThe probability that part was produced by line 1 {round(P2,3)}\\nCorrect answer is 2/5 = {round(2/5,3)}')"
   ]
  },
  {
   "cell_type": "markdown",
   "metadata": {
    "hidden": true
   },
   "source": [
    "#### Marie is getting married tomorrow, at an outdoor ceremony in the desert. In recent years, it has rained only 5 days each year (assume 365 days in a year). Unfortunately, the weatherman has predicted rain for tomorrow. When it actually rains, the weatherman correctly forecasts rain 90% of the time. When it doesn’t rain, he incorrectly forecasts rain 10% of the time. What is the probability that it will rain on the day of Marie’s wedding? Draw a probability tree and calculate the probabilities of each node."
   ]
  },
  {
   "attachments": {
    "image.png": {
     "image/png": "[encoded data removed]"
    }
   },
   "cell_type": "markdown",
   "metadata": {
    "hidden": true
   },
   "source": [
    "![image.png](attachment:image.png)"
   ]
  },
  {
   "cell_type": "code",
   "execution_count": 14,
   "metadata": {
    "hidden": true
   },
   "outputs": [
    {
     "name": "stdout",
     "output_type": "stream",
     "text": [
      "The probability that it will rain on the day of Marie’s wedding is 0.111\n",
      "Correct answer is 1/9 = 0.111\n"
     ]
    }
   ],
   "source": [
    "days_in_year = 365\n",
    "rained = 5\n",
    "correctly_forecasts_rain = 0.9\n",
    "incorrectly_forecasts_rain = 0.1\n",
    "P_A = ((1-correctly_forecasts_rain)*(days_in_year- rained)/days_in_year)\\\n",
    "        +((1-incorrectly_forecasts_rain)*rained/days_in_year)\n",
    "print(f'The probability that it will rain on the day of Marie’s wedding is {round(P_A,3)}\\\n",
    "\\nCorrect answer is 1/9 = {round(1/9,3)}')\n"
   ]
  },
  {
   "cell_type": "markdown",
   "metadata": {
    "hidden": true
   },
   "source": [
    "#### Consider a test to detect a disease that 0.1% of the population have. The test is 99% effective in detecting an infected person. However, the test gives a false positive result in 0.5% of cases. If a person's test is positive for the disease what is the probability that they actually have it? Draw a probability tree and calculate probabilities of each node."
   ]
  },
  {
   "attachments": {
    "image.png": {
     "image/png": "[encoded data removed]"
    }
   },
   "cell_type": "markdown",
   "metadata": {
    "hidden": true
   },
   "source": [
    "![image.png](attachment:image.png)"
   ]
  },
  {
   "cell_type": "markdown",
   "metadata": {
    "heading_collapsed": true
   },
   "source": [
    "### Home task 2.\n",
    " Distributions of Random Variables "
   ]
  },
  {
   "cell_type": "markdown",
   "metadata": {
    "hidden": true
   },
   "source": [
    "#### Find the probability distribution of boys in families with 3 children, assuming equal probabilities for boys and girls. Find the distribution function F(x) corresponding to the pmf and plot it."
   ]
  },
  {
   "cell_type": "code",
   "execution_count": 12,
   "metadata": {
    "hidden": true
   },
   "outputs": [
    {
     "data": {
      "image/png": "[encoded data removed]",
      "text/plain": [
       "<Figure size 432x288 with 1 Axes>"
      ]
     },
     "metadata": {
      "needs_background": "light"
     },
     "output_type": "display_data"
    }
   ],
   "source": [
    "'''\n",
    "b b g = 0\n",
    "b g g = 1\n",
    "\n",
    "'''\n",
    "children = 3\n",
    "P = 1/3\n",
    "k = 1\n",
    "\n",
    "#PMF = [round((P**k)*(P)**(1-k),3) \n",
    "#       for i in range(0,children)]\n",
    "PMF = [ (P**k)*(P)**(1-k), (P**k)*(P)**(1-k)*2, (P**k)*(P)**(1-k)*3]\n",
    "numb= [1,2,3]\n",
    "# make a plot\n",
    "plt.bar(numb, PMF)\n",
    "plt.xticks(np.arange(1,len(numb)+1,1))\n",
    "plt.yticks(np.arange(0,1.1,0.1))\n",
    "plt.xlabel( 'Number ' )\n",
    "plt.ylabel( 'Probabilities' )\n",
    "plt.title('The distribution function F(x) corresponding to the PMF\\n')\n",
    "plt.show()\n"
   ]
  },
  {
   "cell_type": "markdown",
   "metadata": {
    "hidden": true
   },
   "source": [
    "#### An urn holds 5 white and 3 black marbles. If 2 marbles are to be drawn at random without replacement and X denotes the number of white marbles, find the probability distribution for X. Find the survival function S(x) for the random variable X and plot it."
   ]
  },
  {
   "cell_type": "code",
   "execution_count": 152,
   "metadata": {
    "hidden": true
   },
   "outputs": [
    {
     "data": {
      "image/png": "[encoded data removed]",
      "text/plain": [
       "<Figure size 432x288 with 1 Axes>"
      ]
     },
     "metadata": {
      "needs_background": "light"
     },
     "output_type": "display_data"
    }
   ],
   "source": [
    "white = 5\n",
    "black = 3\n",
    "\n",
    "x = [0,1,2,]\n",
    "\n",
    "P = [BinomialDistribution((5/8),2,i) for i in x]\n",
    "\n",
    "S_x =[1-i for i in P] \n",
    "\n",
    "# make a plot\n",
    "plt.step(x, P, label = 'X', color = 'silver', where= 'post')\n",
    "plt.step(x, S_x, label = 'S(x)', color = 'red', where= 'post')\n",
    "plt.title('the probability distribution for X and  the survival function\\\n",
    "          \\nS(x) for the random variable X \\n')\n",
    "plt.legend()\n",
    "plt.show() \n",
    " "
   ]
  },
  {
   "cell_type": "markdown",
   "metadata": {
    "hidden": true
   },
   "source": [
    "#### Let X be a random variable giving the number of aces in a random draw of 4 cards from a deck of 52 cards. Construct a table showing the probability distribution of X."
   ]
  },
  {
   "cell_type": "code",
   "execution_count": 134,
   "metadata": {
    "hidden": true
   },
   "outputs": [
    {
     "data": {
      "image/png": "[encoded data removed]",
      "text/plain": [
       "<Figure size 432x288 with 1 Axes>"
      ]
     },
     "metadata": {
      "needs_background": "light"
     },
     "output_type": "display_data"
    },
    {
     "data": {
      "text/html": [
       "<div>\n",
       "<style scoped>\n",
       "    .dataframe tbody tr th:only-of-type {\n",
       "        vertical-align: middle;\n",
       "    }\n",
       "\n",
       "    .dataframe tbody tr th {\n",
       "        vertical-align: top;\n",
       "    }\n",
       "\n",
       "    .dataframe thead th {\n",
       "        text-align: right;\n",
       "    }\n",
       "</style>\n",
       "<table border=\"1\" class=\"dataframe\">\n",
       "  <thead>\n",
       "    <tr style=\"text-align: right;\">\n",
       "      <th></th>\n",
       "      <th>0</th>\n",
       "    </tr>\n",
       "  </thead>\n",
       "  <tbody>\n",
       "    <tr>\n",
       "      <th>0</th>\n",
       "      <td>0.726025</td>\n",
       "    </tr>\n",
       "    <tr>\n",
       "      <th>1</th>\n",
       "      <td>0.242008</td>\n",
       "    </tr>\n",
       "    <tr>\n",
       "      <th>2</th>\n",
       "      <td>0.030251</td>\n",
       "    </tr>\n",
       "    <tr>\n",
       "      <th>3</th>\n",
       "      <td>0.001681</td>\n",
       "    </tr>\n",
       "  </tbody>\n",
       "</table>\n",
       "</div>"
      ],
      "text/plain": [
       "          0\n",
       "0  0.726025\n",
       "1  0.242008\n",
       "2  0.030251\n",
       "3  0.001681"
      ]
     },
     "execution_count": 134,
     "metadata": {},
     "output_type": "execute_result"
    }
   ],
   "source": [
    "x = [i for i in range(0,4)]\n",
    "P_x =  [BinomialDistribution((4/52),4,i) for i in x] \n",
    "df= pd.DataFrame(data = P_x, index= x)\n",
    "plt.bar(x,P_x)\n",
    "plt.show() \n",
    "df"
   ]
  },
  {
   "cell_type": "markdown",
   "metadata": {
    "hidden": true
   },
   "source": [
    "#### Table shows the distribution function of a random variable X. Determine\n",
    "* (a) the probability function\n",
    "* (b) P(1≤x≤3)\n",
    "* (c) P(x≥2)\n",
    "* (d) P(x < 3)\n",
    "* (e) P(x > 1.4)\n",
    "\n",
    "![image.png](im4.PNG)"
   ]
  },
  {
   "cell_type": "code",
   "execution_count": 172,
   "metadata": {
    "hidden": true
   },
   "outputs": [
    {
     "data": {
      "image/png": "[encoded data removed]",
      "text/plain": [
       "<Figure size 432x288 with 1 Axes>"
      ]
     },
     "metadata": {
      "needs_background": "light"
     },
     "output_type": "display_data"
    },
    {
     "name": "stdout",
     "output_type": "stream",
     "text": [
      "a)the probability function - CDF\n",
      "b)P(1≤x≤3) = 0.75\n",
      "c)P(x≥2) = 0.875\n",
      "d) P(x < 3) = 0.375\n",
      "e) (e) P(x > 1.4) = 0.875\n"
     ]
    }
   ],
   "source": [
    "x =[1,2,3,4]\n",
    "CDF = [1/8,3/8,3/4,1]\n",
    "PMF = []\n",
    "for i in range(0,len(CDF)):\n",
    "    if i ==0:\n",
    "        PMF.append(CDF[i])\n",
    "    else:\n",
    "        PMF.append(CDF[i]-CDF[i-1])              \n",
    "    \n",
    "plt.step(x,CDF)  \n",
    "plt.xticks(np.arange(1,len(CDF)+1,1))\n",
    "plt.bar(x,PMF, color = 'silver')\n",
    "plt.show()\n",
    "b = sum(PMF[0:3])\n",
    "c = sum(PMF[1:])\n",
    "d = sum(PMF[:2])\n",
    "e = sum(PMF[1:])\n",
    "print(f'a)the probability function - CDF\\\n",
    "\\nb)P(1≤x≤3) = {b}\\\n",
    "\\nc)P(x≥2) = {c}\\\n",
    "\\nd) P(x < 3) = {d}\\\n",
    "\\ne) (e) P(x > 1.4) = {e}')\n",
    "  "
   ]
  },
  {
   "cell_type": "markdown",
   "metadata": {
    "hidden": true
   },
   "source": [
    "#### Suppose that 15 students have an equal chance of passing the statistics exam (p (pass) = 65%). What's the probability that exactly 8 students will pass?"
   ]
  },
  {
   "cell_type": "code",
   "execution_count": 173,
   "metadata": {
    "hidden": true,
    "scrolled": false
   },
   "outputs": [
    {
     "data": {
      "image/png": "[encoded data removed]",
      "text/plain": [
       "<Figure size 432x288 with 1 Axes>"
      ]
     },
     "metadata": {
      "needs_background": "light"
     },
     "output_type": "display_data"
    },
    {
     "name": "stdout",
     "output_type": "stream",
     "text": [
      "the probability that exactly 8 students will pass is 0.132\n"
     ]
    }
   ],
   "source": [
    "students = 15\n",
    "p_pass = 0.65\n",
    "\n",
    "x = [i for i in range(1,15)]\n",
    "P_x = [BinomialDistribution(0.65,15,i) for i in x]\n",
    "P_8 = P_x[7] \n",
    "plt.bar(x,P_x) \n",
    "plt.show() \n",
    "print(f'the probability that exactly 8 students will pass is {round(P_8,3)}')\n"
   ]
  },
  {
   "cell_type": "markdown",
   "metadata": {
    "hidden": true
   },
   "source": [
    "#### Study suggests that a new drug is 74% effective in dealing with a disease. Suppose 100 patients who have such disease were randomly selected. What is the probability that the drug will help 80 or more of them?"
   ]
  },
  {
   "cell_type": "code",
   "execution_count": 174,
   "metadata": {
    "hidden": true
   },
   "outputs": [
    {
     "data": {
      "image/png": "[encoded data removed]",
      "text/plain": [
       "<Figure size 432x288 with 1 Axes>"
      ]
     },
     "metadata": {
      "needs_background": "light"
     },
     "output_type": "display_data"
    },
    {
     "name": "stdout",
     "output_type": "stream",
     "text": [
      "the probability that the drug will help 80 or more of them is 0.103\n"
     ]
    }
   ],
   "source": [
    "effective = 0.74\n",
    "patients = 100\n",
    "\n",
    "x = [i for i in range(1,patients)]\n",
    "P_x = [BinomialDistribution(0.74,100,i) for i in x]\n",
    "plt.bar(x, P_x)\n",
    "plt.show()\n",
    "P = sum(P_x[79:])\n",
    "P \n",
    "print(f'the probability that the drug will help 80 or more of them is {round(P,3)}') "
   ]
  },
  {
   "cell_type": "markdown",
   "metadata": {
    "hidden": true
   },
   "source": [
    "#### A random variable X has density function:\n",
    "\n",
    "![image.png](im3.PNG)\n",
    "\n",
    "Find:\n",
    "* (a) the constant c .\n",
    "* (b) P (1 < X < 2) ."
   ]
  },
  {
   "cell_type": "code",
   "execution_count": 178,
   "metadata": {
    "hidden": true
   },
   "outputs": [
    {
     "data": {
      "image/png": "[encoded data removed]",
      "text/plain": [
       "<Figure size 432x288 with 1 Axes>"
      ]
     },
     "metadata": {
      "needs_background": "light"
     },
     "output_type": "display_data"
    },
    {
     "name": "stdout",
     "output_type": "stream",
     "text": [
      "(a) the constant c = 0.1\n",
      "(b) P(1<X<2) = 0.259\n"
     ]
    }
   ],
   "source": [
    "import scipy.integrate as integrate\n",
    "import scipy.special as special\n",
    "\n",
    "x = [i*0.1 for i in range(-20, 50, 1)]\n",
    "\n",
    "result = integrate.quad(lambda x: x**2, 0, 3)\n",
    "c = 1/result[0] \n",
    "\n",
    "data = []\n",
    "for i in x:\n",
    "    if 0<=i<=3:\n",
    "        data.append(c*(i**2))\n",
    "    else:\n",
    "        data.append(0)\n",
    "\n",
    "plt.plot(x,data)\n",
    "plt.show()\n",
    "\n",
    "result2 = round(integrate.quad(lambda x: c*x**2, 1, 2)[0],3) \n",
    "\n",
    "print(f'(a) the constant c = {round(c,1)}\\n(b) P(1<X<2) = {result2}')"
   ]
  },
  {
   "cell_type": "markdown",
   "metadata": {
    "hidden": true
   },
   "source": [
    "#### Epidemiologists consider that the time (in years) until a specific organ of the body stops functioning normally follows the Pareto cdf:\n",
    "\n",
    "![image.png](im2.PNG)\n",
    "The parameter x0 is called the scale parameter, while α is the shape or tail index\n",
    "parameter. The distribution is often denoted by Pa(x0, α).\n",
    "* (a) Derive the density of the Pareto distribution.\n",
    "* (b) What is the survival function associated with this density?\n",
    "* (c) Interpret in the context of the problem the survival function value for x = 10 years when the parameters are α = 1 and x0 = 2 ."
   ]
  },
  {
   "cell_type": "markdown",
   "metadata": {
    "hidden": true
   },
   "source": [
    "* (a)the density of the Pareto distribution: $\\frac{a\\cdot x_0}{x^{a+1}}\\$\n",
    "\n"
   ]
  },
  {
   "cell_type": "markdown",
   "metadata": {
    "hidden": true
   },
   "source": [
    "* (b) the survival function associated with this density\n",
    "![image.png](im1.PNG)"
   ]
  },
  {
   "cell_type": "code",
   "execution_count": 179,
   "metadata": {
    "hidden": true
   },
   "outputs": [
    {
     "data": {
      "image/png": "[encoded data removed]",
      "text/plain": [
       "<Figure size 432x288 with 1 Axes>"
      ]
     },
     "metadata": {
      "needs_background": "light"
     },
     "output_type": "display_data"
    },
    {
     "name": "stdout",
     "output_type": "stream",
     "text": [
      "when the value reaches the limit 1 (cfd) it means that this is the point at which it stops working normally\n"
     ]
    }
   ],
   "source": [
    "#x = 10\n",
    "a = 1\n",
    "x0 = 2\n",
    "x = [i for i in range(x0, 50, 1)]\n",
    "y = [(a*x0)/(i**(a+1)) for i in x]\n",
    "CDF = [1-(x0/i)**a for i in x]\n",
    "S = round(integrate.quad(lambda x: (a*x0)/(i**(a+1)), 2, 10)[0],3) \n",
    "\n",
    "plt.plot(x,y,label ='PDF')\n",
    "plt.plot(x,CDF, label = 'CDF')\n",
    "plt.plot([x0,x0], [0,1])\n",
    "plt.plot([10,10], [0,1])\n",
    "plt.legend()\n",
    "plt.show()\n",
    "print(f'when the value reaches the limit 1 (cfd) it means that this is the point at which it stops working normally')\n"
   ]
  },
  {
   "cell_type": "markdown",
   "metadata": {
    "hidden": true
   },
   "source": [
    "#### Suppose that the time in days until hospital discharge for a certain patient population follows a probability density function\n",
    "![image.png](im5.PNG)\n",
    "\n",
    "* (a) What value of c makes this a valid density?\n",
    "* (b) Find the cumulative distribution function for this density.\n",
    "* (c) Find the survival function.\n",
    "* (d) Calculate the probability that a person takes longer than 11 days to be discharged."
   ]
  },
  {
   "cell_type": "code",
   "execution_count": 180,
   "metadata": {
    "hidden": true
   },
   "outputs": [
    {
     "data": {
      "image/png": "[encoded data removed]",
      "text/plain": [
       "<Figure size 432x288 with 1 Axes>"
      ]
     },
     "metadata": {
      "needs_background": "light"
     },
     "output_type": "display_data"
    },
    {
     "name": "stdout",
     "output_type": "stream",
     "text": [
      "(c) the survival function == CDF\n",
      "(d) The probability that a person takes longer than 11 days to be discharged is 0.026\n"
     ]
    }
   ],
   "source": [
    "c = 1/3\n",
    "dx = 0.1\n",
    "x = [i*dx for i in range(-100,200)]\n",
    "PDF = []\n",
    "for i in x:\n",
    "    if i > 0:\n",
    "        PDF.append(c*np.exp(-(1/3)*i)) \n",
    "    else:\n",
    "        PDF.append(0)\n",
    "        \n",
    "def function(x):\n",
    "    if i < 0:\n",
    "        return 0\n",
    "    else:\n",
    "        return c*np.exp(-(1/3)*x)\n",
    "    \n",
    "CDF = []\n",
    "for i in x:\n",
    "    if i <0:\n",
    "        CDF.append(0)\n",
    "    else:\n",
    "        CDF.append(round(integrate.quad(lambda i: c*np.exp(-(1/3)*i), 0, i)[0],3))\n",
    "        \n",
    "\n",
    "S = round(integrate.quad(lambda i: c*np.exp(-(1/3)*i), 0, np.inf)[0],3)\n",
    "P = 1 - round(integrate.quad(lambda i: c*np.exp(-(1/3)*i), 0, 11)[0],3)\n",
    "\n",
    "plt.plot(x,PDF, label = 'PDF')\n",
    "plt.plot(x,CDF, label = 'CDF')\n",
    "plt.legend()\n",
    "plt.show()\n",
    "print(f'(c) the survival function == CDF\\\n",
    "\\n(d) The probability that a person takes longer than 11 days to be discharged is {round(P,3)}')"
   ]
  },
  {
   "cell_type": "markdown",
   "metadata": {
    "hidden": true
   },
   "source": [
    "#### A random variable is normally distributed with the μ = 50 and standard deviation σ = 6 . What is the probability of randomly selecting a value greater than 68?"
   ]
  },
  {
   "cell_type": "code",
   "execution_count": 181,
   "metadata": {
    "hidden": true
   },
   "outputs": [
    {
     "data": {
      "image/png": "[encoded data removed]",
      "text/plain": [
       "<Figure size 432x288 with 1 Axes>"
      ]
     },
     "metadata": {
      "needs_background": "light"
     },
     "output_type": "display_data"
    },
    {
     "name": "stdout",
     "output_type": "stream",
     "text": [
      "The probability of randomly selecting a value greater than 68 is 0.001\n"
     ]
    }
   ],
   "source": [
    "from math import pi\n",
    "from scipy.integrate import quad\n",
    "\n",
    "mu = 50\n",
    "sigma = 6\n",
    "x = [i*0.1 for i in range(0,1000)]\n",
    "data = [NormallyDistribution(i, mu, sigma)for i in x]\n",
    "plt.plot(x,data)\n",
    "plt.plot([68,68],[0,0.06])\n",
    "plt.show()\n",
    "\n",
    "P = round(quad(NormallyDistribution,68, np.inf, args=(mu, sigma))[0],3)\n",
    "print(f'The probability of randomly selecting a value greater than 68 is {P}')"
   ]
  },
  {
   "cell_type": "markdown",
   "metadata": {
    "hidden": true
   },
   "source": [
    "#### It seems like time that users spend on your website in following the normal distribution with the parameters μ = 70 seconds, σ = 4 (meaning that on average users spend 70 seconds on a website). What is the probability that a new user will spend more than a minute on your website?"
   ]
  },
  {
   "cell_type": "code",
   "execution_count": 182,
   "metadata": {
    "hidden": true
   },
   "outputs": [
    {
     "data": {
      "image/png": "[encoded data removed]",
      "text/plain": [
       "<Figure size 432x288 with 1 Axes>"
      ]
     },
     "metadata": {
      "needs_background": "light"
     },
     "output_type": "display_data"
    },
    {
     "name": "stdout",
     "output_type": "stream",
     "text": [
      "The probability that a new user will spend more than a minute on your website is 0.994\n"
     ]
    }
   ],
   "source": [
    "mu = 70\n",
    "sigma = 4\n",
    "x = [i*0.1 for i in range(400,1000)]\n",
    "data = [NormallyDistribution(i, mu, sigma)for i in x]\n",
    "plt.plot(x,data)\n",
    "plt.plot([60,60],[0,0.06])\n",
    "plt.show()\n",
    "P = round(quad(NormallyDistribution,60, np.inf, args=(mu, sigma))[0],3)\n",
    "print(f'The probability that a new user will spend more than a minute on your website is {P}')"
   ]
  },
  {
   "cell_type": "markdown",
   "metadata": {
    "heading_collapsed": true
   },
   "source": [
    "### Home task 3.\n",
    "Main Characteristics of Distribution"
   ]
  },
  {
   "cell_type": "markdown",
   "metadata": {
    "heading_collapsed": true,
    "hidden": true
   },
   "source": [
    "#### In a lottery there are 200 prizes of 5 dollars, 20 prizes of 25 dollars, and 5 prizes of  100 dollars. Assuming that 10,000 tickets are to be issued and sold, what is a fair price to pay for a ticket?"
   ]
  },
  {
   "cell_type": "code",
   "execution_count": 283,
   "metadata": {
    "hidden": true
   },
   "outputs": [
    {
     "name": "stdout",
     "output_type": "stream",
     "text": [
      "a fair price to pay for a ticket is 0.2\n"
     ]
    }
   ],
   "source": [
    "tickets = 10000\n",
    "x = [200,20,5]\n",
    "px = [5,25,100]\n",
    "ExpectedValue = ExpectedValue(x,px)\n",
    "\n",
    "OneTicketPrice = ExpectedValue/tickets\n",
    "\n",
    "print(f'a fair price to pay for a ticket is {OneTicketPrice}')\n"
   ]
  },
  {
   "cell_type": "markdown",
   "metadata": {
    "hidden": true
   },
   "source": [
    "#### A random variable X is defined by\n",
    "![image.png](im6.PNG)\n",
    "Find\n",
    "* (a) Expected value E(x)\n",
    "* (b) Variance $ σ^2 $(x)\n",
    "* (c) Standard deviation σ(x)"
   ]
  },
  {
   "cell_type": "code",
   "execution_count": 286,
   "metadata": {
    "hidden": true
   },
   "outputs": [
    {
     "data": {
      "image/png": "[encoded data removed]",
      "text/plain": [
       "<Figure size 432x288 with 1 Axes>"
      ]
     },
     "metadata": {
      "needs_background": "light"
     },
     "output_type": "display_data"
    },
    {
     "data": {
      "text/html": [
       "<div>\n",
       "<style scoped>\n",
       "    .dataframe tbody tr th:only-of-type {\n",
       "        vertical-align: middle;\n",
       "    }\n",
       "\n",
       "    .dataframe tbody tr th {\n",
       "        vertical-align: top;\n",
       "    }\n",
       "\n",
       "    .dataframe thead th {\n",
       "        text-align: right;\n",
       "    }\n",
       "</style>\n",
       "<table border=\"1\" class=\"dataframe\">\n",
       "  <thead>\n",
       "    <tr style=\"text-align: right;\">\n",
       "      <th></th>\n",
       "      <th>Value</th>\n",
       "    </tr>\n",
       "  </thead>\n",
       "  <tbody>\n",
       "    <tr>\n",
       "      <th>ExpectedValue</th>\n",
       "      <td>1.00</td>\n",
       "    </tr>\n",
       "    <tr>\n",
       "      <th>Variance</th>\n",
       "      <td>5.00</td>\n",
       "    </tr>\n",
       "    <tr>\n",
       "      <th>Standard deviation</th>\n",
       "      <td>2.24</td>\n",
       "    </tr>\n",
       "  </tbody>\n",
       "</table>\n",
       "</div>"
      ],
      "text/plain": [
       "                    Value\n",
       "ExpectedValue        1.00\n",
       "Variance             5.00\n",
       "Standard deviation   2.24"
      ]
     },
     "execution_count": 286,
     "metadata": {},
     "output_type": "execute_result"
    }
   ],
   "source": [
    "data = {'x':[-2,3,1,],'P(x)':[1/3,1/2,1/6,]}\n",
    "\n",
    "ExpectedValue = ExpectedValue(data['x'], data['P(x)'])\n",
    "\n",
    "Variance = Variance(ExpectedValue,data['P(x)'],data['x'])\n",
    "         \n",
    "Sigma = round(Variance**0.5,2)\n",
    "\n",
    "df = pd.DataFrame(data = {'Value':[ExpectedValue, Variance, Sigma,]}, \n",
    "                  index=['ExpectedValue','Variance','Standard deviation',])\n",
    "\n",
    "plt.bar(data['x'],data['P(x)'], color = 'silver', label ='F(x)')\n",
    "plt.plot([ExpectedValue,ExpectedValue],[0,0.5], label = 'Expected Value')\n",
    "plt.legend()\n",
    "plt.show()\n",
    "df"
   ]
  },
  {
   "cell_type": "markdown",
   "metadata": {
    "hidden": true
   },
   "source": [
    "#### Suppose that the time in days until hospital discharge for a certain patient population follows a probability density function\n",
    "![image.png](im7.png)\n",
    "Find:\n",
    "* (a) Expected value E(x)\n",
    "* (b) Variance $σ^2$(x)\n",
    "* (c) Standard deviation σ(x)"
   ]
  },
  {
   "cell_type": "code",
   "execution_count": 222,
   "metadata": {
    "hidden": true
   },
   "outputs": [
    {
     "data": {
      "image/png": "[encoded data removed]",
      "text/plain": [
       "<Figure size 432x288 with 1 Axes>"
      ]
     },
     "metadata": {
      "needs_background": "light"
     },
     "output_type": "display_data"
    },
    {
     "data": {
      "text/html": [
       "<div>\n",
       "<style scoped>\n",
       "    .dataframe tbody tr th:only-of-type {\n",
       "        vertical-align: middle;\n",
       "    }\n",
       "\n",
       "    .dataframe tbody tr th {\n",
       "        vertical-align: top;\n",
       "    }\n",
       "\n",
       "    .dataframe thead th {\n",
       "        text-align: right;\n",
       "    }\n",
       "</style>\n",
       "<table border=\"1\" class=\"dataframe\">\n",
       "  <thead>\n",
       "    <tr style=\"text-align: right;\">\n",
       "      <th></th>\n",
       "      <th>0</th>\n",
       "    </tr>\n",
       "  </thead>\n",
       "  <tbody>\n",
       "    <tr>\n",
       "      <th>ExpectedValue</th>\n",
       "      <td>0.122626</td>\n",
       "    </tr>\n",
       "    <tr>\n",
       "      <th>Variance</th>\n",
       "      <td>0.001051</td>\n",
       "    </tr>\n",
       "    <tr>\n",
       "      <th>Standard deviation</th>\n",
       "      <td>0.032413</td>\n",
       "    </tr>\n",
       "  </tbody>\n",
       "</table>\n",
       "</div>"
      ],
      "text/plain": [
       "                           0\n",
       "ExpectedValue       0.122626\n",
       "Variance            0.001051\n",
       "Standard deviation  0.032413"
      ]
     },
     "execution_count": 222,
     "metadata": {},
     "output_type": "execute_result"
    }
   ],
   "source": [
    "import scipy.integrate as integrate\n",
    "import scipy.special as special\n",
    "\n",
    "c = 1/3\n",
    "x = [i*0.1 for i in range(-40,200)]  \n",
    "\n",
    "def f(x):\n",
    "    if x > 0:\n",
    "        return (c*np.exp(-1*x/3))\n",
    "    else:\n",
    "        return 0\n",
    "    \n",
    "y = [f(i) for i in x]         \n",
    "\n",
    "ExpectedValue = integrate.quad(lambda x:x*f(x),0,np.inf)[0]\n",
    "\n",
    "SigmaSQ = integrate.quad(lambda x:((x-f(ExpectedValue))**2)*f(x), 0, np.inf)[0]\n",
    "\n",
    "Sigma = f(SigmaSQ)**0.5\n",
    "\n",
    "df = pd.DataFrame(data = [f(ExpectedValue),f(SigmaSQ),Sigma], \n",
    "                  index=['ExpectedValue','Variance','Standard deviation'])\n",
    "\n",
    "\n",
    "plt.plot(x,y, label = 'f(x)' )\n",
    "plt.plot([ExpectedValue]*2,[0,f(ExpectedValue)],label = 'Expected Value' )\n",
    "plt.legend()\n",
    "plt.show()\n",
    "df"
   ]
  },
  {
   "cell_type": "markdown",
   "metadata": {
    "hidden": true
   },
   "source": [
    "#### The density function of a continuous random variable X is:\n",
    "![image.png](im8.png)\n",
    "\n",
    "Find: (a) the mean, (b) the median and compare them."
   ]
  },
  {
   "cell_type": "code",
   "execution_count": 188,
   "metadata": {
    "hidden": true
   },
   "outputs": [
    {
     "data": {
      "image/png": "[encoded data removed]",
      "text/plain": [
       "<Figure size 432x288 with 1 Axes>"
      ]
     },
     "metadata": {
      "needs_background": "light"
     },
     "output_type": "display_data"
    }
   ],
   "source": [
    "import scipy.integrate as integrate\n",
    "import scipy.special as special\n",
    "\n",
    "def mediana(l):\n",
    "    l = sorted(l)\n",
    "    if len(l) % 2 == 1:\n",
    "        return l[int(len(l) / 2)]\n",
    "    else:\n",
    "        return 0.5 * (l[int(len(l) / 2 - 1)] + l[int(len(l) / 2)]) \n",
    "\n",
    "def f(x):\n",
    "    if 0<= x <4:\n",
    "        return 4*x*(9-x*x)/81\n",
    "    else:\n",
    "        return 0   \n",
    "\n",
    "x = [i*0.1 for i in range(0,31)]\n",
    "y = [f(i) for i in x]    \n",
    "\n",
    "ExpectedValue = round(integrate.quad(lambda x:x*f(x), 0, 3)[0],2)\n",
    "\n",
    "mediana = mediana(y)\n",
    "\n",
    "\n",
    "plt.plot([ExpectedValue]*2,[0,f(ExpectedValue)], label = 'Expected Value')   \n",
    "plt.plot([x[y.index(mediana)],\n",
    "          x[y.index(mediana)]],\n",
    "           [0,mediana],\n",
    "          label = 'Mediana') \n",
    "\n",
    "plt.plot(x,y, label = 'F(x)')\n",
    "plt.legend()\n",
    "plt.show()\n"
   ]
  },
  {
   "cell_type": "markdown",
   "metadata": {
    "hidden": true
   },
   "source": [
    "#### Determine the (a) 10 th , (b) 25 th , (c) 50 th , (d) 75 th percentile values for the random variable X:"
   ]
  },
  {
   "cell_type": "code",
   "execution_count": 246,
   "metadata": {
    "hidden": true
   },
   "outputs": [
    {
     "name": "stdout",
     "output_type": "stream",
     "text": [
      "percentile values for the random variable X: \n",
      "(a) 10th = 2                                                     \n",
      "(b) 25th = 3                                                     \n",
      "(b) 50th = 4                                                     \n",
      "(b) 75th = 6\n"
     ]
    }
   ],
   "source": [
    "X = [3, 3, 2, 2, 6, 5, 3, 7, 5, 5, 7, 4, 4, 4, 1]\n",
    "\n",
    "print(f'percentile values for the random variable X: \\n(a) 10th = {percentile(X,10)}\\\n",
    "                                                     \\n(b) 25th = {percentile(X,25)}\\\n",
    "                                                     \\n(b) 50th = {percentile(X,50)}\\\n",
    "                                                     \\n(b) 75th = {percentile(X,75)}') "
   ]
  },
  {
   "cell_type": "markdown",
   "metadata": {
    "hidden": true
   },
   "source": [
    "#### Determine:\n",
    "* (a) the covariance \n",
    "* (b) the correlation between two variables\n",
    "* (c) visualize them\n",
    "- X = [13, 14, 21, 21, 3, 16, 3, 4, 24, 3],\n",
    "- Y = [ 9, 5, 1, 24, 16, 2, 4, 2, 10, 15]"
   ]
  },
  {
   "cell_type": "code",
   "execution_count": 312,
   "metadata": {
    "hidden": true
   },
   "outputs": [
    {
     "name": "stdout",
     "output_type": "stream",
     "text": [
      "2.34 0.041\n",
      "Covariance Matrix:\n",
      "[[63.36  2.34]\n",
      " [ 2.34 51.36]]\n",
      "\n",
      "Correlation Matrix:\n",
      "[[1.         0.04102001]\n",
      " [0.04102001 1.        ]]\n"
     ]
    },
    {
     "data": {
      "image/png": "[encoded data removed]",
      "text/plain": [
       "<Figure size 432x288 with 1 Axes>"
      ]
     },
     "metadata": {
      "needs_background": "light"
     },
     "output_type": "display_data"
    }
   ],
   "source": [
    "X = [13, 14, 21, 21 ,3 ,16, 3, 4, 24, 3]\n",
    "Y = [9, 5, 1, 24, 16, 2, 4, 2, 10, 15]\n",
    "\n",
    "meanX = sum(X)/len(X)\n",
    "meanY = sum(Y)/len(Y)\n",
    "\n",
    "sigmaX = (sum([(i-meanX)**2 for i in X])/len(X))**0.5 \n",
    "sigmaY = (sum([(i-meanY)**2 for i in Y])/len(Y))**0.5\n",
    "\n",
    "cov = round(sum([(X[i]-meanX)*(Y[i]-meanY) for i in range(0, len(X))])/len(X),3) \n",
    "cor = round(cov/(sigmaX*sigmaY),3)\n",
    "print(cov, cor)\n",
    "\n",
    "print ( 'Covariance Matrix:' )\n",
    "print (np.cov(X, Y, bias=True))\n",
    "print ( '\\nCorrelation Matrix:' )\n",
    "print (np.corrcoef(X, Y))\n",
    "\n",
    "plt.scatter(X,Y)\n",
    "plt.show()"
   ]
  },
  {
   "cell_type": "code",
   "execution_count": null,
   "metadata": {
    "hidden": true
   },
   "outputs": [],
   "source": []
  }
 ],
 "metadata": {
  "kernelspec": {
   "display_name": "Python 3",
   "language": "python",
   "name": "python3"
  },
  "language_info": {
   "codemirror_mode": {
    "name": "ipython",
    "version": 3
   },
   "file_extension": ".py",
   "mimetype": "text/x-python",
   "name": "python",
   "nbconvert_exporter": "python",
   "pygments_lexer": "ipython3",
   "version": "3.8.2"
  },
  "toc": {
   "base_numbering": 1,
   "nav_menu": {},
   "number_sections": true,
   "sideBar": true,
   "skip_h1_title": false,
   "title_cell": "Table of Contents",
   "title_sidebar": "Contents",
   "toc_cell": false,
   "toc_position": {},
   "toc_section_display": true,
   "toc_window_display": false
  }
 },
 "nbformat": 4,
 "nbformat_minor": 4
}
