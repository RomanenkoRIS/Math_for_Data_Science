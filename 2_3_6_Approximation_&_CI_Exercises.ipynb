{
  "nbformat": 4,
  "nbformat_minor": 0,
  "metadata": {
    "colab": {
      "name": "2.3.6. Approximation & CI Exercises.ipynb",
      "provenance": [],
      "collapsed_sections": [],
      "include_colab_link": true
    },
    "kernelspec": {
      "name": "python3",
      "display_name": "Python 3"
    }
  },
  "cells": [
    {
      "cell_type": "markdown",
      "metadata": {
        "id": "view-in-github",
        "colab_type": "text"
      },
      "source": [
        "<a href=\"https://colab.research.google.com/github/RomanenkoRIS/Math_for_Data_Science/blob/master/2_3_6_Approximation_%26_CI_Exercises.ipynb\" target=\"_parent\"><img src=\"https://colab.research.google.com/assets/colab-badge.svg\" alt=\"Open In Colab\"/></a>"
      ]
    },
    {
      "cell_type": "markdown",
      "metadata": {
        "id": "IC3FymxXY6Cu"
      },
      "source": [
        "<center><img src=\"https://i.ibb.co/4100VJZ/DEV-logo-1.jpg\" width=\"400\"></center>\n",
        "\n",
        "<center><font size=\"6\"><b>Module 2. Math for Machine Learning</b></font></center>\n",
        "\n",
        "<center><font size=\"4\"><b>2.3.6: Approximation Results and Confidence Intervals</b></font></center>\n",
        "\n",
        "<center><font size=\"4\"><b>Exercises</b></font></center>\n",
        "\n",
        "***"
      ]
    },
    {
      "cell_type": "markdown",
      "metadata": {
        "id": "wRisN9BfdlHv"
      },
      "source": [
        "#### Task #1\n",
        "\n",
        "Generate the exponential distribution data with parameter $\\lambda = 5$ of size $n = 10000$. \n",
        "\n",
        "Show the histogram of samples means for 3 cases:\n",
        "\n",
        "1. $\\text{n_samples}=50$, $\\text{sample_size}=10$\n",
        "1. $\\text{n_samples}=100$, $\\text{sample_size}=30$\n",
        "1. $\\text{n_samples}=500$, $\\text{sample_size}=50$\n",
        "\n",
        "Does these three distributions look like normal?"
      ]
    },
    {
      "cell_type": "code",
      "metadata": {
        "id": "P-GHV-g1gupz"
      },
      "source": [
        "# YOUR CODE GOES HERE\n",
        "\n"
      ],
      "execution_count": null,
      "outputs": []
    },
    {
      "cell_type": "markdown",
      "metadata": {
        "id": "APdySyM8gvzs"
      },
      "source": [
        "#### Task #2\n",
        "\n",
        "Generate normally distributed data of size = 10000, mean = 10 and standard deviation = 1.2. Calculate standard error of the mean and 95% confidence interval for the mean for two cases:\n",
        "\n",
        "1. For the random sample of size 100.\n",
        "2. For the random sample of size 25."
      ]
    },
    {
      "cell_type": "code",
      "metadata": {
        "id": "SiCC4rTxjBTu"
      },
      "source": [
        "# YOUR CODE GOES HERE\n",
        "\n"
      ],
      "execution_count": null,
      "outputs": []
    },
    {
      "cell_type": "markdown",
      "metadata": {
        "id": "i6s4vfylSaNe"
      },
      "source": [
        "### Task #3\n",
        "\n",
        "A camp director is interested in the mean number of letters each child sends during his or her camp session. The population standard deviation is known to be 2.5. A survey of 20 campers is taken. The mean from the sample is 7.9 with a sample standard deviation of 2.8.\n",
        "\n",
        "* Construct a 90% confidence interval for the population mean number of letters campers send home.\n",
        "* What will happen to the error bound and confidence interval if 500 campers are surveyed? Why?"
      ]
    },
    {
      "cell_type": "code",
      "metadata": {
        "id": "-xiGyKE5S176"
      },
      "source": [
        "# YOUR CODE GOES HERE\n",
        "\n"
      ],
      "execution_count": null,
      "outputs": []
    },
    {
      "cell_type": "markdown",
      "metadata": {
        "id": "4pbKdeNTTMR4"
      },
      "source": [
        "### Task #4\n",
        "\n",
        "A pharmaceutical company makes tranquilizers. It is assumed that the distribution for the length of time they last is approximately normal. Researchers in a hospital used the drug on a random sample of nine patients. The effective period of the tranquilizer for each patient (in hours) was as follows: 2.7; 2.8; 3.0; 2.3; 2.3; 2.2; 2.8; 2.1; and 2.4.\n",
        "\n",
        "* Construct a 95% confidence interval for the population mean length of time.\n",
        "* What does it mean to be “95% confident” in this problem?"
      ]
    },
    {
      "cell_type": "code",
      "metadata": {
        "id": "VAGPSUhhTQY2"
      },
      "source": [
        "# YOUR CODE GOES HERE\n",
        "\n"
      ],
      "execution_count": null,
      "outputs": []
    },
    {
      "cell_type": "markdown",
      "metadata": {
        "id": "-PTuZLkATpiV"
      },
      "source": [
        "### Task #5\n",
        "\n",
        "Unoccupied seats on flights cause airlines to lose revenue. Suppose a large airline wants to estimate its mean number of unoccupied seats per flight over the past year. To accomplish this, the records of 225 flights are randomly selected and the number of unoccupied seats is noted for each of the sampled flights. The sample mean is 11.6 seats and the sample standard deviation is 4.1 seats.\n",
        "\n",
        "Construct a 95% confidence interval for the population mean number of unoccupied seats per flight."
      ]
    },
    {
      "cell_type": "code",
      "metadata": {
        "id": "gSRMUKQPTxKP"
      },
      "source": [
        "# YOUR CODE GOES HERE\n",
        "\n"
      ],
      "execution_count": null,
      "outputs": []
    },
    {
      "cell_type": "markdown",
      "metadata": {
        "id": "uuujdiiBkHJW"
      },
      "source": [
        "### Task #6\n",
        "\n",
        "Load the data of students exam performance. Assume that these results are the sample (some amount of students oberved) of the entire population (all students from every university in the city) and we are not sure how the population is distributed.\n",
        "\n",
        "Estimate the 95% confidence interval for the mean for the population based on this sample using bootstrapping method.\n",
        "\n",
        "Data set URL = https://raw.githubusercontent.com/devrepublik/data-science-course/master/data/exploration/StudentsExamsPerformance.csv"
      ]
    },
    {
      "cell_type": "code",
      "metadata": {
        "id": "HnmPz9CBkK7Q"
      },
      "source": [
        "# YOUR CODE GOES HERE\n",
        "\n"
      ],
      "execution_count": null,
      "outputs": []
    }
  ]
}