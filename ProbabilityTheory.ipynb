{
 "cells": [
  {
   "cell_type": "markdown",
   "metadata": {},
   "source": [
    "### Home task 1.\n",
    " Intro to probabilistic thinking "
   ]
  },
  {
   "cell_type": "markdown",
   "metadata": {
    "heading_collapsed": true
   },
   "source": [
    "#### A day of the week is chosen at random. What is the probability of choosing a Monday or Tuesday?"
   ]
  },
  {
   "cell_type": "code",
   "execution_count": 13,
   "metadata": {
    "hidden": true
   },
   "outputs": [
    {
     "name": "stdout",
     "output_type": "stream",
     "text": [
      "The probability of choosing a Monday or Tuesday is 0.286         \n",
      "correct answer is 2/7 = 0.286\n"
     ]
    }
   ],
   "source": [
    "# numbers of preferred outcome\n",
    "pr_out = 2\n",
    "# numbers of all possible outcome\n",
    "all_out = 7\n",
    "#answer\n",
    "P = pr_out/all_out\n",
    "\n",
    "print(f'The probability of choosing a Monday or Tuesday is {round(P,3)} \\\n",
    "        \\ncorrect answer is 2/7 = {round(2/7,3)}')\n"
   ]
  },
  {
   "cell_type": "markdown",
   "metadata": {
    "heading_collapsed": true
   },
   "source": [
    "#### A card is drawn at random from a deck of 52 cards. Find the probability of getting the\n",
    "* a. 3;\n",
    "* b. 3 of diamond."
   ]
  },
  {
   "cell_type": "code",
   "execution_count": 70,
   "metadata": {
    "hidden": true
   },
   "outputs": [
    {
     "name": "stdout",
     "output_type": "stream",
     "text": [
      "Probability of getting the 3 is 0.077 correct answer is 1/13 = 0.077       \n",
      "Probability of getting the 3 of diamond is 0.019 correct answer is 1/52 = 0.019\n"
     ]
    }
   ],
   "source": [
    "# total cards number \n",
    "total_cards_num = 52\n",
    "\n",
    "# a getting the 3\n",
    "cards_num_3 = 4\n",
    "P_a = cards_num_3/total_cards_num\n",
    "\n",
    "# a getting 3 of diamond\n",
    "cards_num_3_diamond = 1\n",
    "\n",
    "P_b = cards_num_3_diamond / total_cards_num\n",
    "\n",
    "print(f'Probability of getting the 3 is { round(P_a,3)} correct answer is 1/13 = {round(1/13,3)} \\\n",
    "      \\nProbability of getting the 3 of diamond is { round(P_b,3)} correct answer is 1/52 = {round(1/52,3)}')"
   ]
  },
  {
   "cell_type": "markdown",
   "metadata": {
    "heading_collapsed": true
   },
   "source": [
    "#### There are 4 parents, 3 students and 6 teachers in a room. If a person is selected at random, what is the probability that it is a teacher or a student?"
   ]
  },
  {
   "cell_type": "code",
   "execution_count": 26,
   "metadata": {
    "hidden": true
   },
   "outputs": [
    {
     "name": "stdout",
     "output_type": "stream",
     "text": [
      "the probability that it is a teacher or a student is 0.692 \n",
      "correct answer is 9/13 = 0.692\n"
     ]
    }
   ],
   "source": [
    "parents = 4\n",
    "student = 3\n",
    "teachers = 6\n",
    "total = parents + student + teachers\n",
    "prob_teacher_or_student = (teachers + student)  /total\n",
    "\n",
    "print(f'the probability that it is a teacher or a \\\n",
    "student is {round(prob_teacher_or_student,3)} \\ncorrect answer is 9/13 = {round(9/13,3)}')\n"
   ]
  },
  {
   "cell_type": "markdown",
   "metadata": {
    "heading_collapsed": true
   },
   "source": [
    "#### Find the probability that a leap year has\n",
    "* a. 52 Sundays;\n",
    "* b. 53 Sundays;\n",
    "* c. 54 Sundays."
   ]
  },
  {
   "cell_type": "code",
   "execution_count": 69,
   "metadata": {
    "hidden": true
   },
   "outputs": [
    {
     "name": "stdout",
     "output_type": "stream",
     "text": [
      "answers:\n",
      "    the probability that a leap year has 52 Sundays is 1.0 correct answer is 1 = 1      \n",
      "    the probability that a leap year has 53 Sundays is 0.286 correct answer is 2/7 = 0.286       \n",
      "    the probability that a leap year has 54 Sundays is 0 correct answer is 0 = 0\n"
     ]
    }
   ],
   "source": [
    "# In a normal year 52 full weeks +1 day. In a leap year 52 full weeks +2 days.\n",
    "fix_days_numb = 7\n",
    "total_days_normal_year = 365\n",
    "total_days_leap_year = 366\n",
    "fix_weeks_numb = round((total_days_normal_year/fix_days_numb),0)\n",
    "\n",
    "# question a \n",
    "#probability that a leap year has 52 Sundays\n",
    "a = round(total_days_leap_year / (fix_weeks_numb*fix_days_numb),0)\n",
    "\n",
    "# question b probability that a leap year has 53 Sundays\n",
    "#In this case, 52 full weeks, 52 Sundays and 2 days which can be any day of the week. \n",
    "#Therefore,in this case, need to analyze the probability that one of 2 days can bee Sunday.\n",
    "b = round((total_days_leap_year-(fix_weeks_numb*fix_days_numb))/fix_days_numb,3)\n",
    "\n",
    "# question c \n",
    "#probability that a leap year has 54 Sundays\n",
    "c = 0\n",
    "\n",
    "print(f'answers:\\n    the probability that a leap year has 52 Sundays is {a} \\\n",
    "correct answer is 1 = {round(1,0)}\\\n",
    "      \\n    the probability that a leap year has 53 Sundays is {b} \\\n",
    "correct answer is 2/7 = {round(2/7,3)} \\\n",
    "      \\n    the probability that a leap year has 54 Sundays is {c} \\\n",
    "correct answer is 0 = {0}')"
   ]
  },
  {
   "cell_type": "markdown",
   "metadata": {
    "heading_collapsed": true
   },
   "source": [
    "#### Four cards are chosen from a standard deck of 52 playing cards with replacement. What is the probability of choosing 4 hearts in a row?"
   ]
  },
  {
   "cell_type": "code",
   "execution_count": 71,
   "metadata": {
    "hidden": true
   },
   "outputs": [
    {
     "name": "stdout",
     "output_type": "stream",
     "text": [
      "the probability of choosing 4 hearts in a row is 0.0039 correct answer is 1/256 = 0.0039 \n"
     ]
    }
   ],
   "source": [
    "P1 = 13/52\n",
    "P2 = 13/52\n",
    "P3 = 13/52\n",
    "P4 = 13/52\n",
    "P = P1*P2*P3*P4\n",
    "print(f'the probability of choosing 4 hearts in a row is {round(P,4)} \\\n",
    "correct answer is 1/256 = {round(1/256,4)} ')\n"
   ]
  },
  {
   "cell_type": "markdown",
   "metadata": {
    "heading_collapsed": true
   },
   "source": [
    "#### A nationwide survey showed that 65% of all children in the United States dislike eating vegetables. If 4 children are chosen at random, what is the probability that all 4 dislike eating vegetables?"
   ]
  },
  {
   "cell_type": "code",
   "execution_count": 77,
   "metadata": {
    "hidden": true
   },
   "outputs": [
    {
     "name": "stdout",
     "output_type": "stream",
     "text": [
      "If 4 children are chosen at random, the probabilitythat all 4 dislike eating vegetables is 0.179. \n",
      "Correct answer is 0.179\n"
     ]
    }
   ],
   "source": [
    "P1 = 0.65\n",
    "P2 = 0.65\n",
    "P3 = 0.65\n",
    "P4 = 0.65\n",
    "P = P1*P2*P3*P4\n",
    "\n",
    "print(f'If 4 children are chosen at random, the probability\\\n",
    "that all 4 dislike eating vegetables is {round(P,3)}. \\nCorrect answer is {0.179}')"
   ]
  },
  {
   "cell_type": "markdown",
   "metadata": {
    "heading_collapsed": true
   },
   "source": [
    "#### Two dice are rolled, the probability that the sum is\n",
    "* a. equal to 1;\n",
    "* b. equal to 4;\n",
    "* c. less than 13."
   ]
  },
  {
   "cell_type": "code",
   "execution_count": 82,
   "metadata": {
    "hidden": true
   },
   "outputs": [
    {
     "name": "stdout",
     "output_type": "stream",
     "text": [
      "the probability that the sum is equal to 1 is 0 \n",
      "Correct answer is 0\n",
      "the probability that the sum is equal to 4 is 0.083 \n",
      "Correct answer is 1/12 = 0.083\n",
      "the probability that the sum is less than 13 is 1.0 \n",
      "Correct answer is 1\n"
     ]
    }
   ],
   "source": [
    "'''\n",
    "1+1 2+1 3+1 4+1 5+1 6+1\n",
    "1+2 2+2 3+2 4+2 5+2 6+2\n",
    "1+3 2+3 3+3 4+3 5+3 6+3\n",
    "1+4 2+4 3+4 4+4 5+4 6+4\n",
    "1+5 2+5 3+5 4+5 5+5 6+5\n",
    "1+6 2+6 3+6 4+6 5+6 6+6\n",
    "'''\n",
    "# a the sum is equal to 1\n",
    "\n",
    "# Minimum value of dice is 1. \n",
    "#If we sum 2 minimum value it bigger than 1. \n",
    "#Therefore probability that the sum is equal 1 equal 0.\n",
    " \n",
    "a = 0\n",
    "\n",
    "# b the sum is equal to 4\n",
    "# combinations:\n",
    "#            1. 1+3 = 4\n",
    "#            2. 2+2 = 4\n",
    "#            3. 3+1 = 4\n",
    "# \n",
    "\n",
    "b = 3/(6*6)\n",
    "#round(b,3), round(1/12,3)\n",
    "\n",
    "# c the sum is less than 13\n",
    "# max value is 6+6 = 12, Therefore all combination less than 13\n",
    "\n",
    "c = 36/36\n",
    "\n",
    "print(f'the probability that the sum is equal to 1 is {a} \\nCorrect answer is {0}\\\n",
    "\\nthe probability that the sum is equal to 4 is {round(b,3)} \\nCorrect answer is 1/12 = {round(1/12,3)}\\\n",
    "\\nthe probability that the sum is less than 13 is {c} \\nCorrect answer is {1}')\n"
   ]
  },
  {
   "cell_type": "markdown",
   "metadata": {
    "heading_collapsed": true
   },
   "source": [
    "#### A jar contains 5 red, 3 green, 2 purple and 4 yellow marbles. A marble is chosen at random from the jar. After putting it back, a second marble is chosen. What is the probability of choosing a purple and then a red marble?"
   ]
  },
  {
   "cell_type": "code",
   "execution_count": 85,
   "metadata": {
    "hidden": true
   },
   "outputs": [
    {
     "name": "stdout",
     "output_type": "stream",
     "text": [
      "The probability of choosing a purple and then a red marble is 0.051\n",
      "Correct answer is 5/98 = 0.051\n"
     ]
    }
   ],
   "source": [
    "red = 5\n",
    "green = 3\n",
    "purple = 2\n",
    "yellow = 4\n",
    "total_numbers = red + green + purple + yellow\n",
    "\n",
    "# B1 - probability of choosing a purple marble\n",
    "P_b1 = purple / total_numbers\n",
    "\n",
    "# B2 - probability of choosing a red marble\n",
    "P_b2 = red / total_numbers\n",
    "\n",
    "P_b1_b2 = P_b1*P_b2 \n",
    "\n",
    "print(f'The probability of choosing a purple and then a red marble is {round(P_b1_b2,4)}\\\n",
    "\\nCorrect answer is 5/98 = {round((5/98),4)}')\n"
   ]
  },
  {
   "cell_type": "markdown",
   "metadata": {
    "heading_collapsed": true
   },
   "source": [
    "#### A box contains 4 chocobars and 4 ice creams. Tom eats 3 of them, by randomly choosing. What is the probability of choosing 2 chocobars and 1 ice cream?"
   ]
  },
  {
   "cell_type": "code",
   "execution_count": 86,
   "metadata": {
    "hidden": true
   },
   "outputs": [
    {
     "name": "stdout",
     "output_type": "stream",
     "text": [
      "The probability of choosing 2 chocobars and 1 ice cream is 0.429\n",
      "Correct answer is 3/7 = 0.429 \n"
     ]
    }
   ],
   "source": [
    "'''\n",
    "b1 = ic ic ch = (4/8)*(3/7)*(4/6)\n",
    "b2 = ch ic ic = (4/8)*(4/7)*(3/6)\n",
    "b3 = ic ch is = (4/8)*(4/7)*(3/6) \n",
    "'''\n",
    "ice_creams = 4\n",
    "chocobars = 4\n",
    "total_numbers = ice_creams + chocobars\n",
    "Pb1 = (4/8)*(3/7)*(4/6)\n",
    "Pb2 = (4/8)*(4/7)*(3/6)\n",
    "Pb3 = (4/8)*(4/7)*(3/6) \n",
    "P = Pb1+Pb2+Pb3\n",
    "\n",
    "print(f'The probability of choosing 2 chocobars and 1 ice cream is {round(P,3)}\\\n",
    "\\nCorrect answer is 3/7 = {round(3/7,3)} ')\n"
   ]
  },
  {
   "cell_type": "markdown",
   "metadata": {
    "heading_collapsed": true
   },
   "source": [
    "#### Balls numbered 1 through 20 are placed in a bag. Three balls are drawn out of the bag without replacement. What is the probability that all the balls have odd numbers on them?"
   ]
  },
  {
   "cell_type": "code",
   "execution_count": 88,
   "metadata": {
    "hidden": true
   },
   "outputs": [
    {
     "name": "stdout",
     "output_type": "stream",
     "text": [
      "The probability that all the balls have odd numbers on them is 0.105\n"
     ]
    }
   ],
   "source": [
    "'''\n",
    "b1 = od od od = (10/20)*(9/19)*(8/18)\n",
    "b2 = od od ev = (10/20)*(9/19)*(10/18)\n",
    "b3 = od ev ev = (10/20)*(10/19)*(9/18)\n",
    "b4 = ev ev ev = (10/20)*(9/19)*(8/18)\n",
    "\n",
    "'''\n",
    "P = (10/20)*(9/19)*(8/18)\n",
    "\n",
    "print(f'The probability that all the balls have odd numbers on them is {round(P,3)}')"
   ]
  },
  {
   "cell_type": "markdown",
   "metadata": {
    "heading_collapsed": true
   },
   "source": [
    "#### Two production lines produce the same part. Line 1 produces 1,000 parts per week of which 100 are defective. Line 2 produces 2,000 parts per week of which 150 are defective. If you choose a part randomly from the stock what is the probability it is defective? If it is defective what is the probability it was produced by line 1?"
   ]
  },
  {
   "cell_type": "code",
   "execution_count": 89,
   "metadata": {
    "hidden": true
   },
   "outputs": [
    {
     "name": "stdout",
     "output_type": "stream",
     "text": [
      "The probability that part is defective is 0.083 \n",
      "Correct answer is 1/12 = 0.083\n",
      "The probability that part was produced by line 1 0.4\n",
      "Correct answer is 2/5 = 0.4\n"
     ]
    }
   ],
   "source": [
    "'''\n",
    "b1 - from 1 line\n",
    "b2 - from 2 line\n",
    "'''\n",
    "Line1 = 1000\n",
    "Line1_defective = 100\n",
    "Line2 = 2000\n",
    "Line2_defective = 150\n",
    "\n",
    "defective_L1 = Line1_defective/Line1\n",
    "defective_L2 = Line2_defective/Line2\n",
    "\n",
    "P_B1 = Line1/(Line1+Line2)\n",
    "P_B2 = Line2/(Line1+Line2)\n",
    "P = P_B1*defective_L1 + P_B2*defective_L2 \n",
    "P2 = P_B1*defective_L1/P \n",
    "\n",
    "print(f'The probability that part is defective is {round(P,3)} \\nCorrect answer is 1/12 = {round(1/12,3)}\\\n",
    "\\nThe probability that part was produced by line 1 {round(P2,3)}\\nCorrect answer is 2/5 = {round(2/5,3)}')"
   ]
  },
  {
   "cell_type": "markdown",
   "metadata": {},
   "source": [
    "#### Marie is getting married tomorrow, at an outdoor ceremony in the desert. In recent years, it has rained only 5 days each year (assume 365 days in a year). Unfortunately, the weatherman has predicted rain for tomorrow. When it actually rains, the weatherman correctly forecasts rain 90% of the time. When it doesn’t rain, he incorrectly forecasts rain 10% of the time. What is the probability that it will rain on the day of Marie’s wedding? Draw a probability tree and calculate the probabilities of each node."
   ]
  },
  {
   "cell_type": "code",
   "execution_count": null,
   "metadata": {},
   "outputs": [],
   "source": []
  }
 ],
 "metadata": {
  "kernelspec": {
   "display_name": "Python 3",
   "language": "python",
   "name": "python3"
  },
  "language_info": {
   "codemirror_mode": {
    "name": "ipython",
    "version": 3
   },
   "file_extension": ".py",
   "mimetype": "text/x-python",
   "name": "python",
   "nbconvert_exporter": "python",
   "pygments_lexer": "ipython3",
   "version": "3.8.6"
  },
  "toc": {
   "base_numbering": 1,
   "nav_menu": {},
   "number_sections": true,
   "sideBar": true,
   "skip_h1_title": false,
   "title_cell": "Table of Contents",
   "title_sidebar": "Contents",
   "toc_cell": false,
   "toc_position": {},
   "toc_section_display": true,
   "toc_window_display": true
  }
 },
 "nbformat": 4,
 "nbformat_minor": 4
}
